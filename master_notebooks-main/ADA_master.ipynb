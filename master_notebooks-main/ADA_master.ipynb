{
 "cells": [
  {
   "cell_type": "code",
   "execution_count": 2,
   "id": "dc86f0f4",
   "metadata": {},
   "outputs": [],
   "source": [
    "import os\n",
    "import gzip\n",
    "import random\n",
    "import pickle\n",
    "import re\n",
    "import itertools\n",
    "import collections\n",
    "import operator\n",
    "import requests\n",
    "from urllib.parse import *\n",
    "from datetime import *\n",
    "from dateutil.parser import parse\n",
    "\n",
    "import math\n",
    "import sklearn\n",
    "import pandas as pd\n",
    "import numpy as np\n",
    "from scipy import stats\n",
    "import statsmodels.api as sm\n",
    "import statsmodels.formula.api as smf\n",
    "from statsmodels.stats import *\n",
    "\n",
    "import ast\n",
    "import gensim\n",
    "import string\n",
    "import nltk\n",
    "import codecs\n",
    "import json\n",
    "import vaderSentiment\n",
    "import spacy\n",
    "from empath import Empath\n",
    "from bs4 import BeautifulSoup\n",
    "\n",
    "import networkx as nx\n",
    "\n",
    "from IPython.display import Image\n",
    "%matplotlib inline\n",
    "import matplotlib.pyplot as plt\n",
    "import seaborn as sns"
   ]
  },
  {
   "cell_type": "markdown",
   "id": "a4282c98",
   "metadata": {},
   "source": [
    "### Reading from files"
   ]
  },
  {
   "cell_type": "code",
   "execution_count": 18,
   "id": "eb818262",
   "metadata": {},
   "outputs": [],
   "source": [
    "df_1 = pd.read_csv(\"./data/data.txt\",\n",
    "                 sep=\"\\n\",\n",
    "                 names=['column1'],\n",
    "                 dtype='string')\n",
    "\n",
    "df_2 = pd.read_csv(\"./data/data.csv\",\n",
    "                 sep=\",\",\n",
    "                 names=['column1', 'column2'],\n",
    "                 dtype={'column1': np.float64, 'column2':np.float64})"
   ]
  },
  {
   "cell_type": "markdown",
   "id": "fb7a78f8",
   "metadata": {},
   "source": [
    "### Create empty dataframe"
   ]
  },
  {
   "cell_type": "code",
   "execution_count": 26,
   "id": "12b1346a",
   "metadata": {},
   "outputs": [],
   "source": [
    "df = pd.DataFrame(columns=['A','B','C','D','E','F','G'])"
   ]
  },
  {
   "cell_type": "markdown",
   "id": "05536c95",
   "metadata": {},
   "source": [
    "### Drop rows"
   ]
  },
  {
   "cell_type": "code",
   "execution_count": 27,
   "id": "540f3def",
   "metadata": {},
   "outputs": [],
   "source": [
    "# drop rows which are NAN\n",
    "df = df[df['A'].notna()]\n",
    "\n",
    "# drop rows which are in list ~ is used as a negate symbol\n",
    "df = df[~df['A'].isin([1,2,3])]"
   ]
  },
  {
   "cell_type": "markdown",
   "id": "a0465ab8",
   "metadata": {},
   "source": [
    "### groupby()"
   ]
  },
  {
   "cell_type": "code",
   "execution_count": null,
   "id": "b9d41a05",
   "metadata": {},
   "outputs": [],
   "source": [
    "# will group values based on similar values for A and B\n",
    "df_gb_C_value = df.groupby(['A', 'B'])['C']\n",
    "\n",
    "df_gb_all_values = df.groupby(['A', 'B'])\n",
    " for enumerator, (key, item) in enumerate(df_gb_all_values):\n",
    "        index_of_c = item['C'].index\n",
    "        value_of_c = item['C'].values\n"
   ]
  },
  {
   "cell_type": "markdown",
   "id": "b488532c",
   "metadata": {},
   "source": [
    "### Counting term frequency in a column"
   ]
  },
  {
   "cell_type": "code",
   "execution_count": 30,
   "id": "57a1e6c8",
   "metadata": {},
   "outputs": [
    {
     "data": {
      "text/plain": [
       "Series([], dtype: int64)"
      ]
     },
     "execution_count": 30,
     "metadata": {},
     "output_type": "execute_result"
    }
   ],
   "source": [
    "df['A'].str.split(expand=True).stack().value_counts()"
   ]
  },
  {
   "cell_type": "markdown",
   "id": "2f841e35",
   "metadata": {},
   "source": [
    "### Plots with axis names"
   ]
  },
  {
   "cell_type": "code",
   "execution_count": 32,
   "id": "44b85062",
   "metadata": {},
   "outputs": [
    {
     "data": {
      "image/png": "[encoded data removed]",
      "text/plain": [
       "<Figure size 1440x720 with 2 Axes>"
      ]
     },
     "metadata": {
      "needs_background": "light"
     },
     "output_type": "display_data"
    }
   ],
   "source": [
    "plt.figure(figsize=(20,10))\n",
    "\n",
    "plt.subplot(1, 2, 1)\n",
    "plt.hist(df['A'],bins=50)\n",
    "plt.title(\"TITLE\",fontsize=30)\n",
    "plt.ylabel('Y LABELS',fontsize=25)\n",
    "plt.xlabel('X LABEL',fontsize=25)\n",
    "\n",
    "\n",
    "plt.subplot(1, 2, 2)\n",
    "plt.hist(df['A'],bins=50,  log=\"y\")\n",
    "plt.title(\"TITLE\",fontsize=30)\n",
    "plt.ylabel('Y LABELS',fontsize=25)\n",
    "plt.xlabel('X LABEL',fontsize=25);"
   ]
  },
  {
   "cell_type": "code",
   "execution_count": null,
   "id": "aeb9b18d",
   "metadata": {},
   "outputs": [],
   "source": []
  }
 ],
 "metadata": {
  "kernelspec": {
   "display_name": "Python [conda env:adaexam] *",
   "language": "python",
   "name": "conda-env-adaexam-py"
  },
  "language_info": {
   "codemirror_mode": {
    "name": "ipython",
    "version": 3
   },
   "file_extension": ".py",
   "mimetype": "text/x-python",
   "name": "python",
   "nbconvert_exporter": "python",
   "pygments_lexer": "ipython3",
   "version": "3.8.12"
  }
 },
 "nbformat": 4,
 "nbformat_minor": 5
}
